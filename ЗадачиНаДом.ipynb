{
 "metadata": {
  "language_info": {
   "codemirror_mode": {
    "name": "ipython",
    "version": 3
   },
   "file_extension": ".py",
   "mimetype": "text/x-python",
   "name": "python",
   "nbconvert_exporter": "python",
   "pygments_lexer": "ipython3",
   "version": "3.9.1"
  },
  "orig_nbformat": 2,
  "kernelspec": {
   "name": "python391jvsc74a57bd0468f25ad0239460415b7e6b7483d5c8f7213894121f6fb96c4cb6ef93fffe534",
   "display_name": "Python 3.9.1 64-bit"
  }
 },
 "nbformat": 4,
 "nbformat_minor": 2,
 "cells": [
  {
   "source": [
    "# Фролов Андрей\n",
    "## Группа: БСТ1901\n",
    "### Задачи на дом 27 февраля"
   ],
   "cell_type": "markdown",
   "metadata": {}
  },
  {
   "source": [
    "### Задание 1"
   ],
   "cell_type": "markdown",
   "metadata": {}
  },
  {
   "cell_type": "code",
   "execution_count": 14,
   "metadata": {},
   "outputs": [
    {
     "output_type": "stream",
     "name": "stdout",
     "text": [
      "Yes\nNo\nNo\nYes\n"
     ]
    }
   ],
   "source": [
    "def check(events):\n",
    "    stack = []\n",
    "    for e in events:\n",
    "        cmd, party = e.split()\n",
    "        if cmd == \"Add\":\n",
    "            stack.append(party)\n",
    "        elif stack.pop() != party:\n",
    "            return \"No\"\n",
    "    return \"Yes\" if len(stack) == 0 else \"No\"\n",
    "\n",
    "print(check([\"Add x\", \"Add y\", \"Vote y\", \"Vote x\"]))\n",
    "print(check([\"Add x\", \"Add x\", \"Vote y\", \"Vote x\"]))\n",
    "print(check([\"Add x\", \"Add y\"]))\n",
    "print(check([\"Add x\", \"Vote x\"]))"
   ]
  },
  {
   "source": [
    "### Задание 2"
   ],
   "cell_type": "markdown",
   "metadata": {}
  },
  {
   "cell_type": "code",
   "execution_count": 15,
   "metadata": {},
   "outputs": [
    {
     "output_type": "execute_result",
     "data": {
      "text/plain": [
       "4"
      ]
     },
     "metadata": {},
     "execution_count": 15
    }
   ],
   "source": [
    "def subpolygon(N):\n",
    "    for i in range(3, int(N**.5)+1):\n",
    "        if N % i == 0: return i\n",
    "    if N > 4 and N % 2 == 0:\n",
    "        return N / 2\n",
    "    return N\n",
    "\n",
    "subpolygon(16)"
   ]
  },
  {
   "source": [
    "### Задание 3"
   ],
   "cell_type": "markdown",
   "metadata": {}
  },
  {
   "cell_type": "code",
   "execution_count": 16,
   "metadata": {},
   "outputs": [
    {
     "output_type": "execute_result",
     "data": {
      "text/plain": [
       "(11, 10)"
      ]
     },
     "metadata": {},
     "execution_count": 16
    }
   ],
   "source": [
    "def captcha(s):\n",
    "    if len(s) == 1:\n",
    "        res = [0,0,0,2,0,2,0,2,3][int(s)-1]\n",
    "        if res:\n",
    "            return 10, res\n",
    "        return -1\n",
    "    S = sum(map(int, s))\n",
    "    if S == 1:\n",
    "        return 10, 2\n",
    "    return S + 1, S\n",
    "\n",
    "captcha(\"19\")"
   ]
  }
 ]
}