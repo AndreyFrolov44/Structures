{
 "cells": [
  {
   "cell_type": "markdown",
   "id": "threatened-liquid",
   "metadata": {},
   "source": [
    "# Лабораторная работа №3. Методы поиска подстроки в строке.\n",
    "## Выполнил студент группы БСТ1901 Фролов Андрей.\n"
   ]
  },
  {
   "cell_type": "markdown",
   "id": "accepted-sender",
   "metadata": {},
   "source": [
    "### Задание 1\n",
    "### Алгоритм Кнута-Морриса-Пратта"
   ]
  },
  {
   "cell_type": "code",
   "execution_count": 49,
   "id": "upper-frederick",
   "metadata": {},
   "outputs": [],
   "source": [
    "def prefix(s):\n",
    "    v = [0]*len(s)\n",
    "    for i in range(1,len(s)):\n",
    "        k = v[i-1]\n",
    "        while k > 0 and s[k] != s[i]:\n",
    "            k = v[k-1]\n",
    "        if s[k] == s[i]:\n",
    "            k = k + 1\n",
    "        v[i] = k\n",
    "    return v\n",
    "\n",
    "def kmp(s, t):\n",
    "    index = -1\n",
    "    f = prefix(s)\n",
    "    k = 0\n",
    "    for i in range(len(t)):\n",
    "        while k > 0 and s[k] != t[i]:\n",
    "            k = f[k-1]\n",
    "        if s[k] == t[i]:\n",
    "            k = k + 1\n",
    "        if k == len(s):\n",
    "            index = i - len(s) + 1\n",
    "            break\n",
    "    return index"
   ]
  },
  {
   "cell_type": "markdown",
   "id": "ethical-certificate",
   "metadata": {},
   "source": [
    "### Упрощенный Бойера-Мура"
   ]
  },
  {
   "cell_type": "code",
   "execution_count": 84,
   "id": "otherwise-stomach",
   "metadata": {},
   "outputs": [
    {
     "data": {
      "text/plain": [
       "3"
      ]
     },
     "execution_count": 84,
     "metadata": {},
     "output_type": "execute_result"
    }
   ],
   "source": [
    "def bmPredCompil(x):\n",
    "    d = {}\n",
    "    lenX = len(x)\n",
    "    for i in range(len(x)):\n",
    "        # сколько символов с правого края до этой буквы\n",
    "        d[ord(x[i])] = lenX - i\n",
    "    return d\n",
    "\n",
    "def boyerMurSearch(x, s):\n",
    "    d = bmPredCompil(x)\n",
    "    # k - проход по s\n",
    "    # j - проход по x\n",
    "    # i - место начала прохода по s\n",
    "    lenX = i = j = k = len(x)\n",
    "    while j > 0 and i<=len(s):\n",
    "     # совпали, двигаемся дальше (от конца к началу)\n",
    "        if s[k-1] == x[j-1]:\n",
    "            k -= 1\n",
    "            j -= 1\n",
    "        # иначе, продвигаемся по строке на d и начинаем с правого конца подстроки снова\n",
    "        else:\n",
    "            i += d[ord(s[i])]\n",
    "            j = lenX\n",
    "            k = i\n",
    "    if j <= 0:# нашли\n",
    "        return k\n",
    "    return None # не нашли\n",
    "\n",
    "def search(s, t, alg=kmp, ignore_case=False, ignore_space=False):\n",
    "    if ignore_case:\n",
    "        s = s.lower()\n",
    "        t = t.lower()\n",
    "        \n",
    "    if ignore_space:\n",
    "        s = s.replace(' ', '')\n",
    "        t = t.replace(' ', '')\n",
    "        \n",
    "    return alg(s, t)"
   ]
  },
  {
   "cell_type": "code",
   "execution_count": 82,
   "id": "known-union",
   "metadata": {},
   "outputs": [
    {
     "name": "stdout",
     "output_type": "stream",
     "text": [
      "Кнута-Морриса-Пратта - 1.4400000054592965e-05\n",
      "Бойера-Мура - 1.4299999747890979e-05\n",
      "Встроенная сортировка - 7.719999985056347e-05\n"
     ]
    }
   ],
   "source": [
    "import time\n",
    "import string\n",
    "\n",
    "alg = {\n",
    "    'Кнута-Морриса-Пратта': kmp,\n",
    "    'Бойера-Мура': boyerMurSearch,\n",
    "      }\n",
    "\n",
    "for key, a in alg.items():\n",
    "    time_start = time.perf_counter()\n",
    "    search('acD', 'aaaacd', alg=a, ignore_case=True, ignore_space=True)\n",
    "    print(f'{key} - {time.perf_counter() - time_start}')\n",
    "    \n",
    "time_start = time.perf_counter()\n",
    "'aaaacd'.find('acD')\n",
    "print(f'Встроенная сортировка - {time.perf_counter() - time_start}')"
   ]
  },
  {
   "cell_type": "code",
   "execution_count": null,
   "id": "awful-tonight",
   "metadata": {},
   "outputs": [],
   "source": []
  },
  {
   "cell_type": "code",
   "execution_count": null,
   "id": "suited-charm",
   "metadata": {},
   "outputs": [],
   "source": []
  }
 ],
 "metadata": {
  "kernelspec": {
   "display_name": "Python 3",
   "language": "python",
   "name": "python3"
  },
  "language_info": {
   "codemirror_mode": {
    "name": "ipython",
    "version": 3
   },
   "file_extension": ".py",
   "mimetype": "text/x-python",
   "name": "python",
   "nbconvert_exporter": "python",
   "pygments_lexer": "ipython3",
   "version": "3.9.1"
  }
 },
 "nbformat": 4,
 "nbformat_minor": 5
}
