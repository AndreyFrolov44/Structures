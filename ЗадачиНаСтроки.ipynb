{
 "metadata": {
  "language_info": {
   "codemirror_mode": {
    "name": "ipython",
    "version": 3
   },
   "file_extension": ".py",
   "mimetype": "text/x-python",
   "name": "python",
   "nbconvert_exporter": "python",
   "pygments_lexer": "ipython3",
   "version": "3.9.1"
  },
  "orig_nbformat": 2,
  "kernelspec": {
   "name": "python391jvsc74a57bd0468f25ad0239460415b7e6b7483d5c8f7213894121f6fb96c4cb6ef93fffe534",
   "display_name": "Python 3.9.1 64-bit"
  }
 },
 "nbformat": 4,
 "nbformat_minor": 2,
 "cells": [
  {
   "source": [
    "# Фролов БСТ1901\n",
    "## Группа: БСТ1901\n",
    "### Задачи на строки"
   ],
   "cell_type": "markdown",
   "metadata": {}
  },
  {
   "source": [
    "### Задание 1"
   ],
   "cell_type": "markdown",
   "metadata": {}
  },
  {
   "cell_type": "code",
   "execution_count": 160,
   "metadata": {},
   "outputs": [
    {
     "output_type": "execute_result",
     "data": {
      "text/plain": [
       "True"
      ]
     },
     "metadata": {},
     "execution_count": 160
    }
   ],
   "source": [
    "from itertools import permutations\n",
    "\n",
    "def get_all_str(str):\n",
    "    return [''.join(p) for p in permutations(str)]\n",
    "\n",
    "def win(first, second):\n",
    "    for i in range(len(first)):\n",
    "        if i == len(first) - 1 and first[i] >= second[i]:\n",
    "            return True\n",
    "        elif first[i] < second[i]:\n",
    "            return False\n",
    "\n",
    "def get_win(first_str, second_str):\n",
    "    first_arr = get_all_str(first_str)\n",
    "    second_arr = get_all_str(second_str)\n",
    "\n",
    "    for first in first_arr:\n",
    "        for second in second_arr:\n",
    "            if win(first, second):\n",
    "                return True\n",
    "    \n",
    "    return False\n",
    "\n",
    "s1 = \"caaa\"\n",
    "s2 = \"aaba\"\n",
    "\n",
    "get_win(s1, s2)\n"
   ]
  },
  {
   "source": [
    "### Задание 2"
   ],
   "cell_type": "markdown",
   "metadata": {}
  },
  {
   "cell_type": "code",
   "execution_count": 161,
   "metadata": {},
   "outputs": [
    {
     "output_type": "execute_result",
     "data": {
      "text/plain": [
       "'bb'"
      ]
     },
     "metadata": {},
     "execution_count": 161
    }
   ],
   "source": [
    "def is_palindrome(str_):\n",
    "    reverse_str = str_[::-1]\n",
    "    if reverse_str == str_:\n",
    "        return True\n",
    "    else:\n",
    "        return False\n",
    "\n",
    "def get_palindrome(str_):\n",
    "    max_p = ''\n",
    "    for i in range(len(str_) - 1):\n",
    "        for j in range(i + 1, len(str_)):\n",
    "            if is_palindrome(str_[i:j + 1]) and len(max_p) < len(str_[i:j + 1]):\n",
    "                max_p = str_[i:j + 1]\n",
    "    return max_p\n",
    "\n",
    "get_palindrome('cbbd')\n",
    "        "
   ]
  },
  {
   "source": [
    "### Задание 3"
   ],
   "cell_type": "markdown",
   "metadata": {}
  },
  {
   "cell_type": "code",
   "execution_count": 162,
   "metadata": {},
   "outputs": [
    {
     "output_type": "execute_result",
     "data": {
      "text/plain": [
       "3"
      ]
     },
     "metadata": {},
     "execution_count": 162
    }
   ],
   "source": [
    "def get_quantity_concatenation(str_):\n",
    "    conc_arr = set()\n",
    "    for i in range(len(str_) - 1):\n",
    "        for j in range(i + 1, len(str_)):\n",
    "            if str_[i:j + 1] == str_[j + 1:len(str_[i:j + 1]) + j + 1]:\n",
    "                conc_arr.add(str_[i:j + 1])\n",
    "    return len(conc_arr)\n",
    "\n",
    "get_quantity_concatenation('abcabcabc')\n"
   ]
  }
 ]
}