{
 "metadata": {
  "language_info": {
   "codemirror_mode": {
    "name": "ipython",
    "version": 3
   },
   "file_extension": ".py",
   "mimetype": "text/x-python",
   "name": "python",
   "nbconvert_exporter": "python",
   "pygments_lexer": "ipython3",
   "version": "3.9.1-final"
  },
  "orig_nbformat": 2,
  "kernelspec": {
   "name": "python391jvsc74a57bd0468f25ad0239460415b7e6b7483d5c8f7213894121f6fb96c4cb6ef93fffe534",
   "display_name": "Python 3.9.1 64-bit"
  }
 },
 "nbformat": 4,
 "nbformat_minor": 2,
 "cells": [
  {
   "source": [
    "# Лабораторная работа №3. Методы поиска подстроки в строке.\n",
    "## Выполнил студент группы БСТ1901 Фролов Андрей."
   ],
   "cell_type": "markdown",
   "metadata": {}
  },
  {
   "source": [
    "### Стек"
   ],
   "cell_type": "markdown",
   "metadata": {}
  },
  {
   "cell_type": "code",
   "execution_count": 2,
   "metadata": {},
   "outputs": [],
   "source": [
    "class Stack:\n",
    "    def __init__(self):\n",
    "        self.stack = []\n",
    "\n",
    "    def is_empty(self):\n",
    "        return len(self.stack) == 0\n",
    "\n",
    "    def push(self, value):\n",
    "        self.stack.append(value)\n",
    "\n",
    "    def peek(self):\n",
    "        if self.is_empty():\n",
    "            raise Exception(\"Stack is empty\")\n",
    "        return self.stack[-1]\n",
    "\n",
    "    def pop(self):\n",
    "        if self.is_empty():\n",
    "            raise Exception(\"Stack is empty\")\n",
    "        return self.stack.pop()\n",
    "\n",
    "    def size(self):\n",
    "        return len(self.stack)\n",
    "\n",
    "    def print(self):\n",
    "        print(self.stack)\n"
   ]
  },
  {
   "source": [
    "### Дек"
   ],
   "cell_type": "markdown",
   "metadata": {}
  },
  {
   "cell_type": "code",
   "execution_count": 3,
   "metadata": {},
   "outputs": [],
   "source": [
    "class Deque:\n",
    "    def __init__(self):\n",
    "        self.deque = []\n",
    "\n",
    "    def is_empty(self):\n",
    "        return len(self.deque) == 0\n",
    "\n",
    "    def add_first(self, value):\n",
    "        self.deque.insert(0, value)\n",
    "\n",
    "    def add_last(self, value):\n",
    "        self.deque.append(value)\n",
    "\n",
    "    def pop_first(self):\n",
    "        if self.is_empty():\n",
    "            raise Exception(\"Deque is empty\")\n",
    "        return self.deque.pop(0)\n",
    "\n",
    "    def pop_last(self):\n",
    "        if self.is_empty():\n",
    "            raise Exception(\"Deque is empty\")\n",
    "        return self.deque.pop()\n",
    "\n",
    "    def peek_first(self):\n",
    "        if self.is_empty():\n",
    "            raise Exception(\"Deque is empty\")\n",
    "        return self.deque[0]\n",
    "\n",
    "    def peek_last(self):\n",
    "        if self.is_empty():\n",
    "            raise Exception(\"Deque is empty\")\n",
    "        return self.deque[-1]\n",
    "\n",
    "    def size(self):\n",
    "        return len(self.deque)\n",
    "\n",
    "    def print(self):\n",
    "        print(self.deque)"
   ]
  },
  {
   "source": [
    "### Задание 1"
   ],
   "cell_type": "markdown",
   "metadata": {}
  },
  {
   "cell_type": "code",
   "execution_count": 4,
   "metadata": {},
   "outputs": [
    {
     "output_type": "stream",
     "name": "stdout",
     "text": [
      "А\nБ\n\nВ\n\n"
     ]
    }
   ],
   "source": [
    "with open('books.txt', 'r', encoding='utf-8') as f:\n",
    "    d1 = Deque()\n",
    "    d2 = Deque()\n",
    "\n",
    "    for book in f:\n",
    "        d1.add_last(book)\n",
    "\n",
    "    while not d1.is_empty():\n",
    "        x = d1.pop_last()\n",
    "        while not d2.is_empty() and d2.peek_last() < x:\n",
    "            d1.add_first(d2.pop_last())\n",
    "        d2.add_last(x)\n",
    "\n",
    "    while not d2.is_empty():\n",
    "        print(d2.pop_last())"
   ]
  },
  {
   "source": [
    "### Задание 2"
   ],
   "cell_type": "markdown",
   "metadata": {}
  },
  {
   "cell_type": "code",
   "execution_count": 5,
   "metadata": {},
   "outputs": [
    {
     "output_type": "stream",
     "name": "stdout",
     "text": [
      "абвгд\n"
     ]
    }
   ],
   "source": [
    "alphabet = list('абвгдеёжзийклмнопрстуфхцчшщъыьэюя')\n",
    "\n",
    "keyRing = Deque()\n",
    "for letter in alphabet:\n",
    "    keyRing.add_last(letter)\n",
    "\n",
    "def decode_char(c):\n",
    "    for i in range(keyRing.size()):\n",
    "        x = keyRing.pop_last()\n",
    "        if x == c:\n",
    "            keyRing.add_first(x)\n",
    "            val = keyRing.pop_last()\n",
    "            keyRing.add_first(val)\n",
    "            return val\n",
    "        keyRing.add_first(x)\n",
    "\n",
    "text = 'бвгде'\n",
    "\n",
    "\n",
    "\n",
    "decoded = ''\n",
    "for letter in text:\n",
    "    if decoded_letter := decode_char(letter):\n",
    "        decoded += decoded_letter\n",
    "    else:\n",
    "        decoded += letter\n",
    "print(decoded)"
   ]
  },
  {
   "source": [
    "### Задание 3"
   ],
   "cell_type": "markdown",
   "metadata": {}
  },
  {
   "cell_type": "code",
   "execution_count": 6,
   "metadata": {
    "tags": []
   },
   "outputs": [
    {
     "output_type": "stream",
     "name": "stdout",
     "text": [
      "1\n2\n3\n4\n5\n6\n7\n8\n9\n10\n"
     ]
    }
   ],
   "source": [
    "A = Stack()\n",
    "B = Stack()\n",
    "C = Stack()\n",
    "\n",
    "disks = 10\n",
    "\n",
    "for i in range(disks, 0, -1):\n",
    "    A.push(i)\n",
    "\n",
    "\n",
    "def move(a, b):\n",
    "    if a.is_empty() and not b.is_empty():\n",
    "        a.push(b.pop())\n",
    "    elif not a.is_empty() and b.is_empty():\n",
    "        b.push(a.pop())\n",
    "    elif a.peek() > b.peek():\n",
    "        a.push(b.pop())\n",
    "    else:\n",
    "        b.push(a.pop())\n",
    "\n",
    "\n",
    "if disks % 2 == 0:\n",
    "    while C.size() != disks:\n",
    "        move(A, B)\n",
    "        move(A, C)\n",
    "        move(B, C)\n",
    "else:\n",
    "    while C.size() != disks:\n",
    "        move(A, C)\n",
    "        move(A, B)\n",
    "        move(B, C)\n",
    "\n",
    "while not C.is_empty():\n",
    "    print(C.pop())"
   ]
  },
  {
   "source": [
    "### Задание 4"
   ],
   "cell_type": "markdown",
   "metadata": {}
  },
  {
   "cell_type": "code",
   "execution_count": 7,
   "metadata": {},
   "outputs": [
    {
     "output_type": "stream",
     "name": "stdout",
     "text": [
      "False\nTrue\n"
     ]
    }
   ],
   "source": [
    "def check_brackets(string):\n",
    "    bracket_stack = Stack()\n",
    "    for i in string:\n",
    "        if i == '(':\n",
    "            bracket_stack.push(i)\n",
    "        elif i == ')':\n",
    "            if bracket_stack.is_empty():\n",
    "                return False\n",
    "            bracket_stack.pop()\n",
    "    return bracket_stack.is_empty()\n",
    "\n",
    "print(check_brackets('()())'))\n",
    "print(check_brackets('(()())()()()()(()(()(())()))'))"
   ]
  },
  {
   "source": [
    "### Задание 5"
   ],
   "cell_type": "markdown",
   "metadata": {}
  },
  {
   "cell_type": "code",
   "execution_count": 8,
   "metadata": {},
   "outputs": [
    {
     "output_type": "stream",
     "name": "stdout",
     "text": [
      "True\n",
      "False\n"
     ]
    }
   ],
   "source": [
    "def check_square_brackets(string):\n",
    "    bracket_stack = Deque()\n",
    "    for i in string:\n",
    "        if i == '[':\n",
    "            bracket_stack.add_last(i)\n",
    "        elif i == ']':\n",
    "            if bracket_stack.is_empty():\n",
    "                return False\n",
    "            bracket_stack.pop_last()\n",
    "    return bracket_stack.is_empty()\n",
    "\n",
    "print(check_square_brackets('[]'))\n",
    "print(check_square_brackets('[[]]]'))"
   ]
  },
  {
   "source": [
    "### Задание 6"
   ],
   "cell_type": "markdown",
   "metadata": {}
  },
  {
   "cell_type": "code",
   "execution_count": 9,
   "metadata": {},
   "outputs": [
    {
     "output_type": "stream",
     "name": "stdout",
     "text": [
      "123символы.,//\n"
     ]
    }
   ],
   "source": [
    "text = '.си1,м/2/во3лы'\n",
    "\n",
    "letters = Stack()\n",
    "digits = Stack()\n",
    "others = Stack()\n",
    "\n",
    "for c in text:\n",
    "    if c.isalpha():\n",
    "        letters.push(c)\n",
    "    elif c.isdigit():\n",
    "        digits.push(c)\n",
    "    else:\n",
    "        others.push(c)\n",
    "\n",
    "new_text = ''\n",
    "\n",
    "\n",
    "while not others.is_empty():\n",
    "    new_text += others.pop()\n",
    "\n",
    "while not letters.is_empty():\n",
    "    new_text += letters.pop()\n",
    "\n",
    "while not digits.is_empty():\n",
    "    new_text += digits.pop()\n",
    "print(new_text[::-1])"
   ]
  },
  {
   "source": [
    "### Задание 7"
   ],
   "cell_type": "markdown",
   "metadata": {}
  },
  {
   "cell_type": "code",
   "execution_count": 10,
   "metadata": {},
   "outputs": [
    {
     "output_type": "stream",
     "name": "stdout",
     "text": [
      "[3, 0, -1, 2, 10, 3, -1, -1, -3, -2]\n-1\n-1\n-1\n-3\n-2\n3\n0\n2\n10\n3\n"
     ]
    }
   ],
   "source": [
    "\n",
    "import random\n",
    "\n",
    "numbers = [random.randint(-10, 10) for i in range(10)]\n",
    "print(numbers)\n",
    "\n",
    "deque = Deque()\n",
    "for n in numbers:\n",
    "    if n < 0:\n",
    "        deque.add_first(n)\n",
    "    else:\n",
    "        deque.add_last(n)\n",
    "\n",
    "while not deque.is_empty():\n",
    "    x = deque.pop_first()\n",
    "    if x < 0:\n",
    "        deque.add_last(x)\n",
    "    else:\n",
    "        deque.add_first(x)\n",
    "        break\n",
    "\n",
    "while not deque.is_empty():\n",
    "    x = deque.pop_last()\n",
    "    if x < 0:\n",
    "        print(x)\n",
    "    else:\n",
    "        deque.add_last(x)\n",
    "        break\n",
    "\n",
    "while not deque.is_empty():\n",
    "    print(deque.pop_first())\n"
   ]
  },
  {
   "source": [
    "### Задание 8"
   ],
   "cell_type": "markdown",
   "metadata": {}
  },
  {
   "cell_type": "code",
   "execution_count": 11,
   "metadata": {},
   "outputs": [
    {
     "output_type": "stream",
     "name": "stdout",
     "text": [
      "Б\nВ\nА\n-----------------------------\nА\nВ\nБ\n"
     ]
    }
   ],
   "source": [
    "with open('books.txt', 'r', encoding='utf-8') as books:\n",
    "    stack = Stack()\n",
    "    for book in books:\n",
    "        book = book.strip()\n",
    "        print(book)\n",
    "        stack.push(book)\n",
    "    print('-----------------------------')\n",
    "    while not stack.is_empty():\n",
    "        print(stack.pop())\n"
   ]
  }
 ]
}